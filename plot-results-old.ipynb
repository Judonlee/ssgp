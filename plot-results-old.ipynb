{
 "cells": [
  {
   "cell_type": "code",
   "execution_count": 1,
   "metadata": {
    "collapsed": true
   },
   "outputs": [],
   "source": [
    "%matplotlib inline"
   ]
  },
  {
   "cell_type": "code",
   "execution_count": 2,
   "metadata": {
    "collapsed": true
   },
   "outputs": [],
   "source": [
    "import matplotlib.pyplot as plt\n",
    "import numpy as np"
   ]
  },
  {
   "cell_type": "code",
   "execution_count": 3,
   "metadata": {
    "collapsed": false
   },
   "outputs": [],
   "source": [
    "class Data():\n",
    "    def __init__(self, x, sdr, sir, sar, rmse, baseline):\n",
    "        self.x = x\n",
    "        self.sdr = sdr\n",
    "        self.sir = sir\n",
    "        self.sar = sar\n",
    "        self.rmse = rmse\n",
    "        self.baseline = baseline"
   ]
  },
  {
   "cell_type": "code",
   "execution_count": 4,
   "metadata": {
    "collapsed": true
   },
   "outputs": [],
   "source": [
    "def plot_metrics(data, save=False, title=\"fig_metrics\"):\n",
    "    plt.figure()\n",
    "    plt.plot(data.x, data.sdr, \"k-o\", markerfacecolor=\"w\")\n",
    "    plt.plot(data.x, data.sir, \"k-s\", markerfacecolor=\"w\")\n",
    "    plt.plot(data.x, data.sar, \"k-o\", markerfacecolor=\"k\")\n",
    "    \n",
    "#     plt.plot(x, data.baseline[0] + 0*x, \"k--o\", markerfacecolor=\"w\")\n",
    "#     plt.plot(x, data.baseline[1] + 0*x, \"k-.s\", markerfacecolor=\"w\")\n",
    "#     plt.plot(x, data.baseline[2] + 0*x, \"k:o\", markerfacecolor=\"k\")\n",
    "    \n",
    "    plt.ylabel(\"dB\")\n",
    "    plt.xlabel(\"Number of partials in kernel\")\n",
    "    plt.xticks(x)\n",
    "    plt.legend(['SDR', 'SIR', 'SAR', 'SDR', 'SIR', 'SAR'], frameon=1)\n",
    "    \n",
    "    if save:\n",
    "        plt.savefig(title + \".png\", dpi=300)"
   ]
  },
  {
   "cell_type": "code",
   "execution_count": 5,
   "metadata": {
    "collapsed": true
   },
   "outputs": [],
   "source": [
    "def plot_rmse(x, rmse, baseline=0, save=False, title=\"fig_rmse\"):\n",
    "    plt.plot(x, rmse[0], \"k-o\", markerfacecolor=\"w\")\n",
    "    plt.plot(x, rmse[1], \"k-d\", markerfacecolor=\"w\")\n",
    "    plt.plot(x, rmse[2], \"k-o\", markerfacecolor=\"k\")\n",
    "    plt.ylabel(\"RMSE\")\n",
    "    plt.xlabel(\"D\")\n",
    "    #plt.title(\"RMSE \")\n",
    "    plt.xticks(x)\n",
    "    plt.legend(['Piano (SSGP)', 'Guitar (SSGP)', 'Clarinet (SSGP)', 'Average'], frameon=1)\n",
    "    \n",
    "    if save:\n",
    "        plt.tight_layout()\n",
    "        plt.savefig(title + \".png\", dpi=300)"
   ]
  },
  {
   "cell_type": "markdown",
   "metadata": {},
   "source": [
    "# Baseline Results"
   ]
  },
  {
   "cell_type": "code",
   "execution_count": 6,
   "metadata": {
    "collapsed": true
   },
   "outputs": [],
   "source": [
    "baseline = [23.0, 27.7, 25.1]"
   ]
  },
  {
   "cell_type": "markdown",
   "metadata": {},
   "source": [
    "# Results Piano"
   ]
  },
  {
   "cell_type": "code",
   "execution_count": 7,
   "metadata": {
    "collapsed": true
   },
   "outputs": [],
   "source": [
    "sdr_piano = np.asarray([21.380357,\n",
    "                        23.584114,\n",
    "                        23.585384,\n",
    "                        23.301619,\n",
    "                        23.291971,\n",
    "                        23.237894,\n",
    "                        23.187698,\n",
    "                        23.177226])"
   ]
  },
  {
   "cell_type": "code",
   "execution_count": 8,
   "metadata": {
    "collapsed": true
   },
   "outputs": [],
   "source": [
    "sir_piano = np.asarray([32.353563,\n",
    "                        29.795773,\n",
    "                        29.10225,\n",
    "                        29.000422,\n",
    "                        29.340891,\n",
    "                        29.219931,\n",
    "                        29.213379,\n",
    "                        29.203932])"
   ]
  },
  {
   "cell_type": "code",
   "execution_count": 9,
   "metadata": {
    "collapsed": false
   },
   "outputs": [],
   "source": [
    "sar_piano = np.asarray([21.80036,\n",
    "                        25.174638,\n",
    "                        25.414608,\n",
    "                        24.913419,\n",
    "                        24.77728,\n",
    "                        24.687571,\n",
    "                        24.623496,\n",
    "                        24.610728])"
   ]
  },
  {
   "cell_type": "code",
   "execution_count": 10,
   "metadata": {
    "collapsed": true
   },
   "outputs": [],
   "source": [
    "rmse_piano = np.asarray([0.019306396742763,\n",
    "                         0.009225146678879,\n",
    "                         0.0066443339119,\n",
    "                         0.005419429007618,\n",
    "                         0.00462143442716,\n",
    "                         0.004157613393389,\n",
    "                         0.004128213122211,\n",
    "                         0.004131938147497])"
   ]
  },
  {
   "cell_type": "markdown",
   "metadata": {},
   "source": [
    "# Results Guitar"
   ]
  },
  {
   "cell_type": "code",
   "execution_count": 11,
   "metadata": {
    "collapsed": true
   },
   "outputs": [],
   "source": [
    "sdr_guitar = np.asarray([18.14492,\n",
    "                         15.554457,\n",
    "                         14.786655,\n",
    "                         16.671391,\n",
    "                         16.971023,\n",
    "                         16.881707,\n",
    "                         17.052767,\n",
    "                         17.026788])"
   ]
  },
  {
   "cell_type": "code",
   "execution_count": 12,
   "metadata": {
    "collapsed": true
   },
   "outputs": [],
   "source": [
    "sir_guitar = np.asarray([30.029136,\n",
    "                         24.434797,\n",
    "                         25.59074,\n",
    "                         27.016905,\n",
    "                         25.725356,\n",
    "                         25.807226,\n",
    "                         25.909614,\n",
    "                         25.878953])"
   ]
  },
  {
   "cell_type": "code",
   "execution_count": 13,
   "metadata": {
    "collapsed": true
   },
   "outputs": [],
   "source": [
    "sar_guitar = np.asarray([18.553755,\n",
    "                         18.847648,\n",
    "                         15.845354,\n",
    "                         17.439545,\n",
    "                         17.794455,\n",
    "                         17.678042,\n",
    "                         17.879545,\n",
    "                         17.855173])"
   ]
  },
  {
   "cell_type": "code",
   "execution_count": 14,
   "metadata": {
    "collapsed": true
   },
   "outputs": [],
   "source": [
    "rmse_guitar = np.asarray([0.023715412622773,\n",
    "                         0.01974241891264,\n",
    "                         0.015402944540779,\n",
    "                         0.011421821418189,\n",
    "                         0.008622465561105,\n",
    "                         0.006774408688192,\n",
    "                         0.006140065841412,\n",
    "                         0.006137693510959])"
   ]
  },
  {
   "cell_type": "markdown",
   "metadata": {},
   "source": [
    "# Results Clarinet"
   ]
  },
  {
   "cell_type": "code",
   "execution_count": 15,
   "metadata": {
    "collapsed": true
   },
   "outputs": [],
   "source": [
    "sdr_clarinet = np.asarray([25.579062,\n",
    "                           31.238462,\n",
    "                           30.82593,\n",
    "                           30.095167,\n",
    "                           30.026391,\n",
    "                           29.738093,\n",
    "                           29.735211,\n",
    "                           29.733747])"
   ]
  },
  {
   "cell_type": "code",
   "execution_count": 16,
   "metadata": {
    "collapsed": true
   },
   "outputs": [],
   "source": [
    "sir_clarinet = np.asarray([44.973592,\n",
    "                           44.16718,\n",
    "                           38.458555,\n",
    "                           37.00976,\n",
    "                           37.890551,\n",
    "                           38.27517,\n",
    "                           38.292541,\n",
    "                           38.295563])"
   ]
  },
  {
   "cell_type": "code",
   "execution_count": 17,
   "metadata": {
    "collapsed": true
   },
   "outputs": [],
   "source": [
    "sar_clarinet = np.asarray([25.63093,\n",
    "                           31.636893,\n",
    "                           32.438488,\n",
    "                           31.196221,\n",
    "                           30.826129,\n",
    "                           30.440157,\n",
    "                           30.433676,\n",
    "                           30.431039])"
   ]
  },
  {
   "cell_type": "code",
   "execution_count": 18,
   "metadata": {
    "collapsed": true
   },
   "outputs": [],
   "source": [
    "rmse_clarinet = np.asarray([0.049338536898144,\n",
    "                            0.025811157708328,\n",
    "                            0.012070982747401,\n",
    "                            0.00679462077677,\n",
    "                            0.005609199283396,\n",
    "                            0.005034482741433,\n",
    "                            0.004966400306397,\n",
    "                            0.004958902744047])"
   ]
  },
  {
   "cell_type": "markdown",
   "metadata": {},
   "source": [
    "# Average results"
   ]
  },
  {
   "cell_type": "code",
   "execution_count": 19,
   "metadata": {
    "collapsed": true
   },
   "outputs": [],
   "source": [
    "sdr_average = np.asarray([21.7014463333333,\n",
    "                          23.459011,\n",
    "                          23.0659896666667,\n",
    "                          23.356059,\n",
    "                          23.429795,\n",
    "                          23.285898,\n",
    "                          23.3252253333333,\n",
    "                          23.312587])"
   ]
  },
  {
   "cell_type": "code",
   "execution_count": 20,
   "metadata": {
    "collapsed": true
   },
   "outputs": [],
   "source": [
    "sir_average = np.asarray([35.7854303333333,\n",
    "                          32.79925,\n",
    "                          31.050515,\n",
    "                          31.009029,\n",
    "                          30.9855993333333,\n",
    "                          31.1007756666667,\n",
    "                          31.1385113333333,\n",
    "                          31.1261493333333])"
   ]
  },
  {
   "cell_type": "code",
   "execution_count": 21,
   "metadata": {
    "collapsed": false
   },
   "outputs": [],
   "source": [
    "sar_average = np.asarray([21.995015,\n",
    "                          25.2197263333333,\n",
    "                          24.56615,\n",
    "                          24.516395,\n",
    "                          24.4659546666667,\n",
    "                          24.26859,\n",
    "                          24.312239,\n",
    "                          24.29898])"
   ]
  },
  {
   "cell_type": "code",
   "execution_count": 22,
   "metadata": {
    "collapsed": true
   },
   "outputs": [],
   "source": [
    "rmse_average = np.asarray([0.030786782087893,\n",
    "                           0.018259574433283,\n",
    "                           0.01137275373336,\n",
    "                           0.007878623734192,\n",
    "                           0.006284366423887,\n",
    "                           0.005322168274338,\n",
    "                           0.00507822642334,\n",
    "                           0.005076178134168])"
   ]
  },
  {
   "cell_type": "markdown",
   "metadata": {},
   "source": [
    "# Generate plots"
   ]
  },
  {
   "cell_type": "code",
   "execution_count": 23,
   "metadata": {
    "collapsed": true
   },
   "outputs": [],
   "source": [
    "x = np.asarray([1, 2, 3, 5, 7, 10, 15, 20])"
   ]
  },
  {
   "cell_type": "code",
   "execution_count": 24,
   "metadata": {
    "collapsed": false
   },
   "outputs": [],
   "source": [
    "d_piano = Data(x=x, \n",
    "               sdr=sdr_piano, \n",
    "               sir=sir_piano, \n",
    "               sar=sar_piano, \n",
    "               rmse=rmse_piano, \n",
    "               baseline=baseline)\n",
    "\n",
    "d_guitar = Data(x=x, \n",
    "                sdr=sdr_guitar, \n",
    "                sir=sir_guitar, \n",
    "                sar=sar_guitar, \n",
    "                rmse=rmse_guitar, \n",
    "                baseline=baseline)\n",
    "\n",
    "d_clarinet = Data(x=x, \n",
    "                  sdr=sdr_clarinet, \n",
    "                  sir=sir_clarinet, \n",
    "                  sar=sar_clarinet, \n",
    "                  rmse=rmse_clarinet, \n",
    "                  baseline=baseline)"
   ]
  },
  {
   "cell_type": "code",
   "execution_count": 53,
   "metadata": {
    "collapsed": false
   },
   "outputs": [],
   "source": [
    "def plot_metric(x, metric, baseline, ylabel, pbaseline=True, legend=True):\n",
    "    lw = 2\n",
    "    plt.plot(x, metric, \"k-s\", markerfacecolor=\"w\", lw=lw)\n",
    "    if pbaseline:\n",
    "        plt.plot(x, baseline[0] + 0*x, \"k--\", lw=lw)\n",
    "        plt.plot(x, baseline[1] + 0*x, \"k-.\", lw=lw)\n",
    "        plt.plot(x, baseline[2] + 0*x, \"k:\", lw=lw)\n",
    "    plt.ylabel(ylabel)\n",
    "    #plt.ylabel(\"dB\")\n",
    "    plt.xlabel(\"D\")\n",
    "    plt.xticks(x)\n",
    "    if legend:\n",
    "        plt.legend(['SSGP', 'LD-PSDTF', \"IS-NMF\", \"KL-NMF\"], frameon=1, ncol=1)"
   ]
  },
  {
   "cell_type": "code",
   "execution_count": 55,
   "metadata": {
    "collapsed": false
   },
   "outputs": [
    {
     "data": {
      "image/png": "[encoded data removed]",
      "text/plain": [
       "<matplotlib.figure.Figure at 0x7f2385f49190>"
      ]
     },
     "metadata": {},
     "output_type": "display_data"
    }
   ],
   "source": [
    "plt.rcParams.update({'font.size': 10})\n",
    "\n",
    "all_rmse = [d_piano.rmse, d_guitar.rmse, d_clarinet.rmse]\n",
    "\n",
    "plt.figure(figsize=(14, 4))\n",
    "plt.subplot(1,4,1)\n",
    "plot_metric(x, sdr_average, [23.0, 19.1, 17.7], \"SDR (dB)\")\n",
    "plt.title(\"(a)\")\n",
    "\n",
    "plt.subplot(1,4,2)\n",
    "plot_metric(x, sir_average, [27.7, 24.0, 22.2], \"SIR (dB)\")\n",
    "plt.title(\"(b)\")\n",
    "\n",
    "plt.subplot(1,4,3)\n",
    "plot_metric(x, sar_average, [25.1, 21.0, 19.7], \"SAR (dB)\")\n",
    "plt.title(\"(c)\")\n",
    "\n",
    "plt.subplot(1,4,4)\n",
    "plot_rmse(x=x, rmse=all_rmse)\n",
    "plt.title(\"(d)\")\n",
    "\n",
    "plt.tight_layout()\n",
    "plt.savefig(\"metrics.pdf\")"
   ]
  },
  {
   "cell_type": "code",
   "execution_count": null,
   "metadata": {
    "collapsed": true
   },
   "outputs": [],
   "source": [
    "\n",
    "\n",
    "\n",
    "\n",
    "\n",
    "\n",
    "\n",
    "\n",
    "\n",
    "\n",
    "\n",
    "\n",
    "\n",
    "\n",
    "\n",
    "\n",
    "\n",
    "\n",
    "\n",
    "\n",
    "\n",
    "\n",
    "\n",
    "\n",
    "\n"
   ]
  }
 ],
 "metadata": {
  "kernelspec": {
   "display_name": "Python 2",
   "language": "python",
   "name": "python2"
  },
  "language_info": {
   "codemirror_mode": {
    "name": "ipython",
    "version": 2
   },
   "file_extension": ".py",
   "mimetype": "text/x-python",
   "name": "python",
   "nbconvert_exporter": "python",
   "pygments_lexer": "ipython2",
   "version": "2.7.13"
  }
 },
 "nbformat": 4,
 "nbformat_minor": 0
}
