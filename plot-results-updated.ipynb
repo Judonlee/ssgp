{
 "cells": [
  {
   "cell_type": "code",
   "execution_count": 1,
   "metadata": {
    "collapsed": true
   },
   "outputs": [],
   "source": [
    "%matplotlib inline"
   ]
  },
  {
   "cell_type": "code",
   "execution_count": 2,
   "metadata": {
    "collapsed": true
   },
   "outputs": [],
   "source": [
    "import matplotlib.pyplot as plt\n",
    "import numpy as np"
   ]
  },
  {
   "cell_type": "code",
   "execution_count": 3,
   "metadata": {
    "collapsed": false
   },
   "outputs": [],
   "source": [
    "class Data():\n",
    "    def __init__(self, x, sdr, sir, sar, rmse, baseline):\n",
    "        self.x = x\n",
    "        self.sdr = sdr\n",
    "        self.sir = sir\n",
    "        self.sar = sar\n",
    "        self.rmse = rmse\n",
    "        self.baseline = baseline"
   ]
  },
  {
   "cell_type": "code",
   "execution_count": 4,
   "metadata": {
    "collapsed": true
   },
   "outputs": [],
   "source": [
    "def plot_metrics(data, save=False, title=\"fig_metrics\"):\n",
    "    plt.figure()\n",
    "    plt.plot(data.x, data.sdr, \"k-o\", markerfacecolor=\"w\")\n",
    "    plt.plot(data.x, data.sir, \"k-s\", markerfacecolor=\"w\")\n",
    "    plt.plot(data.x, data.sar, \"k-o\", markerfacecolor=\"k\")\n",
    "    \n",
    "#     plt.plot(x, data.baseline[0] + 0*x, \"k--o\", markerfacecolor=\"w\")\n",
    "#     plt.plot(x, data.baseline[1] + 0*x, \"k-.s\", markerfacecolor=\"w\")\n",
    "#     plt.plot(x, data.baseline[2] + 0*x, \"k:o\", markerfacecolor=\"k\")\n",
    "    \n",
    "    plt.ylabel(\"dB\")\n",
    "    plt.xlabel(\"Number of partials in kernel\")\n",
    "    plt.xticks(x)\n",
    "    plt.legend(['SDR', 'SIR', 'SAR', 'SDR', 'SIR', 'SAR'], frameon=1)\n",
    "    \n",
    "    if save:\n",
    "        plt.savefig(title + \".png\", dpi=300)"
   ]
  },
  {
   "cell_type": "code",
   "execution_count": 5,
   "metadata": {
    "collapsed": true
   },
   "outputs": [],
   "source": [
    "def plot_rmse(x, rmse, baseline=0, save=False, title=\"fig_rmse\"):\n",
    "    plt.plot(x, rmse[0], \"k-o\", markerfacecolor=\"w\")\n",
    "    plt.plot(x, rmse[1], \"k-d\", markerfacecolor=\"w\")\n",
    "    plt.plot(x, rmse[2], \"k-o\", markerfacecolor=\"k\")\n",
    "    plt.ylabel(\"RMSE\")\n",
    "    plt.xlabel(\"D\")\n",
    "    #plt.title(\"RMSE \")\n",
    "    plt.xticks(x)\n",
    "    plt.legend(['Piano (SSGP)', 'Guitar (SSGP)', 'Clarinet (SSGP)', 'Average'], frameon=1)\n",
    "    \n",
    "    if save:\n",
    "        plt.tight_layout()\n",
    "        plt.savefig(title + \".png\", dpi=300)"
   ]
  },
  {
   "cell_type": "markdown",
   "metadata": {},
   "source": [
    "# Baseline Results"
   ]
  },
  {
   "cell_type": "code",
   "execution_count": 6,
   "metadata": {
    "collapsed": true
   },
   "outputs": [],
   "source": [
    "baseline = [23.0, 27.7, 25.1]"
   ]
  },
  {
   "cell_type": "markdown",
   "metadata": {},
   "source": [
    "# Results Piano"
   ]
  },
  {
   "cell_type": "code",
   "execution_count": 7,
   "metadata": {
    "collapsed": false
   },
   "outputs": [],
   "source": [
    "sdr_piano = np.asarray([12.058522,\n",
    "                        22.586641,\n",
    "                        23.827044,\n",
    "                        23.2991,\n",
    "                        23.338349,\n",
    "                        23.207559,\n",
    "                        23.173699,\n",
    "                        23.236641\n",
    "                        ])"
   ]
  },
  {
   "cell_type": "code",
   "execution_count": 8,
   "metadata": {
    "collapsed": true
   },
   "outputs": [],
   "source": [
    "sir_piano = np.asarray([19.87783,\n",
    "                        26.992552,\n",
    "                        28.40466,\n",
    "                        28.581412,\n",
    "                        29.519087,\n",
    "                        29.639245,\n",
    "                        29.622971,\n",
    "                        29.647146\n",
    "                        ])"
   ]
  },
  {
   "cell_type": "code",
   "execution_count": 9,
   "metadata": {
    "collapsed": false
   },
   "outputs": [],
   "source": [
    "sar_piano = np.asarray([13.900278,\n",
    "                        24.687258,\n",
    "                        26.008207,\n",
    "                        24.935241,\n",
    "                        24.620366,\n",
    "                        24.358077,\n",
    "                        24.31974,\n",
    "                        24.396088\n",
    "                        ])"
   ]
  },
  {
   "cell_type": "code",
   "execution_count": 10,
   "metadata": {
    "collapsed": true
   },
   "outputs": [],
   "source": [
    "rmse_piano = np.asarray([0.018822578691837,\n",
    "                         0.009151183532551,\n",
    "                         0.006448068438334,\n",
    "                         0.005213510490695,\n",
    "                         0.004402994479973,\n",
    "                         0.003911156558985,\n",
    "                         0.00387314053362,\n",
    "                         0.003862956640373\n",
    "                         ])"
   ]
  },
  {
   "cell_type": "markdown",
   "metadata": {},
   "source": [
    "# Results Guitar"
   ]
  },
  {
   "cell_type": "code",
   "execution_count": 11,
   "metadata": {
    "collapsed": true
   },
   "outputs": [],
   "source": [
    "sdr_guitar = np.asarray([9.764678,\n",
    "                        19.820464,\n",
    "                        17.253289,\n",
    "                        16.040234,\n",
    "                        17.85299,\n",
    "                        17.196387,\n",
    "                        17.59101,\n",
    "                        17.548121\n",
    "                        ])"
   ]
  },
  {
   "cell_type": "code",
   "execution_count": 12,
   "metadata": {
    "collapsed": true
   },
   "outputs": [],
   "source": [
    "sir_guitar = np.asarray([18.2577,\n",
    "                         27.287366,\n",
    "                         24.790741,\n",
    "                         25.350818,\n",
    "                         25.870809,\n",
    "                         25.102915,\n",
    "                         25.946982,\n",
    "                         25.892149\n",
    "                         ])"
   ]
  },
  {
   "cell_type": "code",
   "execution_count": 13,
   "metadata": {
    "collapsed": true
   },
   "outputs": [],
   "source": [
    "sar_guitar = np.asarray([12.12962,\n",
    "                         25.129986,\n",
    "                         18.157653,\n",
    "                         17.660581,\n",
    "                         18.740529,\n",
    "                         18.239914,\n",
    "                         18.438821,\n",
    "                         18.402411\n",
    "                         ])"
   ]
  },
  {
   "cell_type": "code",
   "execution_count": 14,
   "metadata": {
    "collapsed": true
   },
   "outputs": [],
   "source": [
    "rmse_guitar = np.asarray([0.023717421895489,\n",
    "                          0.019611284384463,\n",
    "                          0.014766040800127,\n",
    "                          0.012068490455038,\n",
    "                          0.008317047287547,\n",
    "                          0.006637697043936,\n",
    "                          0.005709067593406,\n",
    "                          0.005703783399623\n",
    "                          ])"
   ]
  },
  {
   "cell_type": "markdown",
   "metadata": {},
   "source": [
    "# Results Clarinet"
   ]
  },
  {
   "cell_type": "code",
   "execution_count": 15,
   "metadata": {
    "collapsed": true
   },
   "outputs": [],
   "source": [
    "sdr_clarinet = np.asarray([8.16965,\n",
    "                           31.715348,\n",
    "                           31.769391,\n",
    "                           31.699752,\n",
    "                           31.852994,\n",
    "                           31.6015,\n",
    "                           31.513526,\n",
    "                           31.425823\n",
    "                           ])"
   ]
  },
  {
   "cell_type": "code",
   "execution_count": 16,
   "metadata": {
    "collapsed": true
   },
   "outputs": [],
   "source": [
    "sir_clarinet = np.asarray([11.06486,\n",
    "                           36.909515,\n",
    "                           36.02645,\n",
    "                           36.38224,\n",
    "                           38.440206,\n",
    "                           38.81362,\n",
    "                           38.721868,\n",
    "                           38.420911\n",
    "                           ])"
   ]
  },
  {
   "cell_type": "code",
   "execution_count": 17,
   "metadata": {
    "collapsed": true
   },
   "outputs": [],
   "source": [
    "sar_clarinet = np.asarray([17.841908,\n",
    "                           33.854822,\n",
    "                           35.663342,\n",
    "                           33.734954,\n",
    "                           33.045458,\n",
    "                           32.650432,\n",
    "                           32.569279,\n",
    "                           32.498521\n",
    "                           ])"
   ]
  },
  {
   "cell_type": "code",
   "execution_count": 18,
   "metadata": {
    "collapsed": true
   },
   "outputs": [],
   "source": [
    "rmse_clarinet = np.asarray([0.058763526362253,\n",
    "                            0.025932666749413,\n",
    "                            0.01217313975905,\n",
    "                            0.006508373687873,\n",
    "                            0.00517000286557,\n",
    "                            0.004477268356774,\n",
    "                            0.004352094050076,\n",
    "                            0.004364904349632\n",
    "                            ])"
   ]
  },
  {
   "cell_type": "markdown",
   "metadata": {},
   "source": [
    "# Average results"
   ]
  },
  {
   "cell_type": "code",
   "execution_count": 19,
   "metadata": {
    "collapsed": true
   },
   "outputs": [],
   "source": [
    "sdr_average = np.asarray([9.99761666666667,\n",
    "                          24.7074843333333,\n",
    "                          24.2832413333333,\n",
    "                          23.6796953333333,\n",
    "                          24.348111,\n",
    "                          24.0018153333333,\n",
    "                          24.092745,\n",
    "                          24.070195\n",
    "                          ])"
   ]
  },
  {
   "cell_type": "code",
   "execution_count": 20,
   "metadata": {
    "collapsed": true
   },
   "outputs": [],
   "source": [
    "sir_average = np.asarray([16.40013,\n",
    "                          30.3964776666667,\n",
    "                          29.740617,\n",
    "                          30.1048233333333,\n",
    "                          31.2767006666667,\n",
    "                          31.18526,\n",
    "                          31.430607,\n",
    "                          31.3200686666667\n",
    "                          ])"
   ]
  },
  {
   "cell_type": "code",
   "execution_count": 21,
   "metadata": {
    "collapsed": false
   },
   "outputs": [],
   "source": [
    "sar_average = np.asarray([14.6239353333333,\n",
    "                          27.8906886666667,\n",
    "                          26.609734,\n",
    "                          25.443592,\n",
    "                          25.4687843333333,\n",
    "                          25.0828076666667,\n",
    "                          25.10928,\n",
    "                          25.0990066666667\n",
    "                          ])"
   ]
  },
  {
   "cell_type": "code",
   "execution_count": 22,
   "metadata": {
    "collapsed": true
   },
   "outputs": [],
   "source": [
    "rmse_average = np.asarray([0.033767842316526,\n",
    "                           0.018231711555476,\n",
    "                           0.01112908299917,\n",
    "                           0.007930124877869,\n",
    "                           0.00596334821103,\n",
    "                           0.005008707319898,\n",
    "                           0.004644767392368,\n",
    "                           0.004643881463209\n",
    "                           ])"
   ]
  },
  {
   "cell_type": "markdown",
   "metadata": {},
   "source": [
    "# Generate plots"
   ]
  },
  {
   "cell_type": "code",
   "execution_count": 23,
   "metadata": {
    "collapsed": true
   },
   "outputs": [],
   "source": [
    "x = np.asarray([1, 2, 3, 5, 7, 10, 15, 20])"
   ]
  },
  {
   "cell_type": "code",
   "execution_count": 24,
   "metadata": {
    "collapsed": false
   },
   "outputs": [],
   "source": [
    "d_piano = Data(x=x, \n",
    "               sdr=sdr_piano, \n",
    "               sir=sir_piano, \n",
    "               sar=sar_piano, \n",
    "               rmse=rmse_piano, \n",
    "               baseline=baseline)\n",
    "\n",
    "d_guitar = Data(x=x, \n",
    "                sdr=sdr_guitar, \n",
    "                sir=sir_guitar, \n",
    "                sar=sar_guitar, \n",
    "                rmse=rmse_guitar, \n",
    "                baseline=baseline)\n",
    "\n",
    "d_clarinet = Data(x=x, \n",
    "                  sdr=sdr_clarinet, \n",
    "                  sir=sir_clarinet, \n",
    "                  sar=sar_clarinet, \n",
    "                  rmse=rmse_clarinet, \n",
    "                  baseline=baseline)"
   ]
  },
  {
   "cell_type": "code",
   "execution_count": 25,
   "metadata": {
    "collapsed": false
   },
   "outputs": [],
   "source": [
    "def plot_metric(x, metric, baseline, ylabel, pbaseline=True, legend=True):\n",
    "    lw = 2\n",
    "    plt.plot(x, metric, \"k-s\", markerfacecolor=\"w\", lw=lw)\n",
    "    if pbaseline:\n",
    "        plt.plot(x, baseline[0] + 0*x, \"k--\", lw=lw)\n",
    "        plt.plot(x, baseline[1] + 0*x, \"k-.\", lw=lw)\n",
    "        plt.plot(x, baseline[2] + 0*x, \"k:\", lw=lw)\n",
    "    plt.ylabel(ylabel)\n",
    "    #plt.ylabel(\"dB\")\n",
    "    plt.xlabel(\"D\")\n",
    "    plt.xticks(x)\n",
    "    if legend:\n",
    "        plt.legend(['SSGP', 'LD-PSDTF', \"IS-NMF\", \"KL-NMF\"], frameon=1, ncol=1)"
   ]
  },
  {
   "cell_type": "code",
   "execution_count": 26,
   "metadata": {
    "collapsed": false
   },
   "outputs": [
    {
     "data": {
      "image/png": "[encoded data removed]",
      "text/plain": [
       "<matplotlib.figure.Figure at 0x7f893cc15390>"
      ]
     },
     "metadata": {},
     "output_type": "display_data"
    }
   ],
   "source": [
    "plt.rcParams.update({'font.size': 10})\n",
    "\n",
    "all_rmse = [d_piano.rmse, d_guitar.rmse, d_clarinet.rmse]\n",
    "\n",
    "plt.figure(figsize=(14, 4))\n",
    "plt.subplot(1,4,1)\n",
    "plot_metric(x, sdr_average, [23.0, 19.1, 17.7], \"SDR (dB)\")\n",
    "plt.title(\"(a)\")\n",
    "\n",
    "plt.subplot(1,4,2)\n",
    "plot_metric(x, sir_average, [27.7, 24.0, 22.2], \"SIR (dB)\")\n",
    "plt.title(\"(b)\")\n",
    "\n",
    "plt.subplot(1,4,3)\n",
    "plot_metric(x, sar_average, [25.1, 21.0, 19.7], \"SAR (dB)\")\n",
    "plt.title(\"(c)\")\n",
    "\n",
    "plt.subplot(1,4,4)\n",
    "plot_rmse(x=x, rmse=all_rmse)\n",
    "plt.title(\"(d)\")\n",
    "\n",
    "plt.tight_layout()\n",
    "plt.savefig(\"metrics.pdf\")"
   ]
  },
  {
   "cell_type": "code",
   "execution_count": null,
   "metadata": {
    "collapsed": true
   },
   "outputs": [],
   "source": [
    "\n",
    "\n",
    "\n",
    "\n",
    "\n",
    "\n",
    "\n",
    "\n",
    "\n",
    "\n",
    "\n",
    "\n",
    "\n",
    "\n",
    "\n",
    "\n",
    "\n",
    "\n",
    "\n",
    "\n",
    "\n",
    "\n",
    "\n",
    "\n",
    "\n"
   ]
  }
 ],
 "metadata": {
  "kernelspec": {
   "display_name": "Python 2",
   "language": "python",
   "name": "python2"
  },
  "language_info": {
   "codemirror_mode": {
    "name": "ipython",
    "version": 2
   },
   "file_extension": ".py",
   "mimetype": "text/x-python",
   "name": "python",
   "nbconvert_exporter": "python",
   "pygments_lexer": "ipython2",
   "version": "2.7.13"
  }
 },
 "nbformat": 4,
 "nbformat_minor": 0
}
